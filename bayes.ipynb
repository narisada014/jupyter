{
  "nbformat": 4,
  "nbformat_minor": 0,
  "metadata": {
    "colab": {
      "name": "bayes.ipynb",
      "provenance": [],
      "toc_visible": true,
      "authorship_tag": "ABX9TyNROZRK0h1A4BUt1CRV0psc",
      "include_colab_link": true
    },
    "kernelspec": {
      "name": "python3",
      "display_name": "Python 3"
    },
    "language_info": {
      "name": "python"
    }
  },
  "cells": [
    {
      "cell_type": "markdown",
      "metadata": {
        "id": "view-in-github",
        "colab_type": "text"
      },
      "source": [
        "<a href=\"https://colab.research.google.com/github/narisada014/jupyter/blob/master/bayes.ipynb\" target=\"_parent\"><img src=\"https://colab.research.google.com/assets/colab-badge.svg\" alt=\"Open In Colab\"/></a>"
      ]
    },
    {
      "cell_type": "code",
      "metadata": {
        "id": "nf5y0kYP3ekO"
      },
      "source": [
        "# ベイス推論\n",
        "import numpy as np\n",
        "\n",
        "# シータのとる範囲\n",
        "thetas = np.linspace(0,1,1001)\n",
        "\n",
        "# 尤度関数(rが起きる確率分布をシータで表したもの)\n",
        "likelihood = lambda r: thetas if r else 1 - thetas\n",
        "\n",
        "# 事後分布\n",
        "def posterior(r, prior):\n",
        "  # 尤度関数×事前分布\n",
        "  pp = likelihood(r) * prior\n",
        "  return pp/pp.sum()\n",
        "\n",
        "# 事前分布定義\n",
        "p = np.array([1/len(thetas) for _ in thetas])"
      ],
      "execution_count": 2,
      "outputs": []
    },
    {
      "cell_type": "code",
      "metadata": {
        "colab": {
          "base_uri": "https://localhost:8080/",
          "height": 281
        },
        "id": "J23tFn335RMr",
        "outputId": "734fcbc9-0c70-4945-c4b7-7ddb95aa3125"
      },
      "source": [
        "# 事後分布とシータのプロット\n",
        "from matplotlib import pyplot as plt\n",
        "plt.plot(thetas, p)\n",
        "plt.xlabel(r'$\\theta$')\n",
        "plt.ylabel(r'$p(\\theta)$')\n",
        "plt.show()"
      ],
      "execution_count": 19,
      "outputs": [
        {
          "output_type": "display_data",
          "data": {
            "image/png": "[encoded data removed]",
            "text/plain": [
              "<Figure size 432x288 with 1 Axes>"
            ]
          },
          "metadata": {
            "tags": [],
            "needs_background": "light"
          }
        }
      ]
    },
    {
      "cell_type": "code",
      "metadata": {
        "id": "6LKGC_Ta5x_Y"
      },
      "source": [
        "# 更新\n",
        "p = posterior(1,p)"
      ],
      "execution_count": 12,
      "outputs": []
    },
    {
      "cell_type": "code",
      "metadata": {
        "id": "cYaAJooK6NAE"
      },
      "source": [
        "p = posterior(0,p)"
      ],
      "execution_count": 18,
      "outputs": []
    }
  ]
}